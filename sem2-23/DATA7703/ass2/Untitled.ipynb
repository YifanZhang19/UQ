{
 "cells": [
  {
   "cell_type": "code",
   "execution_count": 1,
   "id": "da3441b5",
   "metadata": {
    "scrolled": true
   },
   "outputs": [],
   "source": [
    "\n",
    "\n",
    "import numpy as np\n",
    "from sklearn.metrics import accuracy_score\n",
    "from sklearn.model_selection import train_test_split\n",
    "from sklearn.datasets import fetch_covtype\n",
    "from sklearn import linear_model \n",
    "\n",
    "# import torch\n",
    "# import torch.optim as optim"
   ]
  },
  {
   "cell_type": "code",
   "execution_count": 3,
   "id": "a9e38c5f",
   "metadata": {},
   "outputs": [
    {
     "name": "stderr",
     "output_type": "stream",
     "text": [
      "/Users/meviusz/opt/anaconda3/lib/python3.9/site-packages/sklearn/linear_model/_logistic.py:814: ConvergenceWarning: lbfgs failed to converge (status=1):\n",
      "STOP: TOTAL NO. of ITERATIONS REACHED LIMIT.\n",
      "\n",
      "Increase the number of iterations (max_iter) or scale the data as shown in:\n",
      "    https://scikit-learn.org/stable/modules/preprocessing.html\n",
      "Please also refer to the documentation for alternative solver options:\n",
      "    https://scikit-learn.org/stable/modules/linear_model.html#logistic-regression\n",
      "  n_iter_i = _check_optimize_result(\n"
     ]
    },
    {
     "name": "stdout",
     "output_type": "stream",
     "text": [
      "0.6201869646035977\n",
      "0.621179089407013\n"
     ]
    }
   ],
   "source": [
    "class LogisticRegression:\n",
    "    def __init__(self):\n",
    "        pass\n",
    "\n",
    "    def fit(self, X, y, lr=0.1, momentum=0, niter=100):\n",
    "        '''\n",
    "        Train a multiclass logistic regression model on the given training set.\n",
    "\n",
    "        Parameters\n",
    "        ----------\n",
    "        X: training examples, represented as an input array of shape (n_sample,\n",
    "           n_features).\n",
    "        y: labels of training examples, represented as an array of shape\n",
    "           (n_sample,) containing the classes for the input examples\n",
    "        lr: learning rate for gradient descent\n",
    "        niter: number of gradient descent updates\n",
    "        momentum: the momentum constant (see assignment task sheet for an explanation)\n",
    "\n",
    "        Returns\n",
    "        -------\n",
    "        self: fitted model\n",
    "        '''\n",
    "        self.classes_ = np.unique(y)\n",
    "        self.class2int = dict((c, i) for i, c in enumerate(self.classes_))\n",
    "        y = np.array([self.class2int[c] for c in y])\n",
    "\n",
    "        n_features = X.shape[1]\n",
    "        n_classes = len(self.classes_)\n",
    "\n",
    "        self.intercept_ = np.zeros(n_classes)\n",
    "        self.coef_ = np.zeros((n_classes, n_features))\n",
    "\n",
    "        # Implement your gradient descent training code here; uncomment the code below to do \"random training\"\n",
    "        #self.intercept_ = np.random.randn(*self.intercept_.shape)\n",
    "        #self.coef_ = np.random.randn(*self.coef_.shape)\n",
    "\n",
    "        return self\n",
    "\n",
    "    def predict_proba(self, X):\n",
    "        '''\n",
    "        Predict the class distributions for given input examples.\n",
    "\n",
    "        Parameters\n",
    "        ----------\n",
    "        X: input examples, represented as an input array of shape (n_sample,\n",
    "           n_features).\n",
    "\n",
    "        Returns\n",
    "        -------\n",
    "        y: predicted class distributions, represented as an array of shape (n_sample,\n",
    "           n_classes)\n",
    "        '''\n",
    "\n",
    "        # Modify the code below to implement the idea for avoiding numerical flow as described in Q4 (b)\n",
    "        scores = X @ self.coef_.T + self.intercept_\n",
    "        scores = np.exp(scores)\n",
    "        return scores/scores.sum(axis=1).reshape(-1, 1)\n",
    "\n",
    "    def predict(self, X):\n",
    "        '''\n",
    "        Predict the classes for given input examples.\n",
    "\n",
    "        Parameters\n",
    "        ----------\n",
    "        X: input examples, represented as an input array of shape (n_sample,\n",
    "           n_features).\n",
    "\n",
    "        Returns\n",
    "        -------\n",
    "        y: predicted class labels, represented as an array of shape (n_sample,)\n",
    "        '''\n",
    "\n",
    "        # replace pass with your code\n",
    "        pass\n",
    "\n",
    "if __name__ == '__main__':\n",
    "    X, y = fetch_covtype(return_X_y=True)\n",
    "    X_tr, X_ts, y_tr, y_ts = train_test_split(X, y, test_size=0.3, random_state=42)\n",
    "\n",
    "    clf = linear_model.LogisticRegression()\n",
    "    clf.fit(X_tr, y_tr)\n",
    "    print(accuracy_score(y_tr, clf.predict(X_tr)))\n",
    "    print(accuracy_score(y_ts, clf.predict(X_ts)))\n",
    "\n"
   ]
  },
  {
   "cell_type": "code",
   "execution_count": null,
   "id": "cb9eb12a",
   "metadata": {},
   "outputs": [],
   "source": []
  }
 ],
 "metadata": {
  "kernelspec": {
   "display_name": "Python 3 (ipykernel)",
   "language": "python",
   "name": "python3"
  },
  "language_info": {
   "codemirror_mode": {
    "name": "ipython",
    "version": 3
   },
   "file_extension": ".py",
   "mimetype": "text/x-python",
   "name": "python",
   "nbconvert_exporter": "python",
   "pygments_lexer": "ipython3",
   "version": "3.9.12"
  }
 },
 "nbformat": 4,
 "nbformat_minor": 5
}
