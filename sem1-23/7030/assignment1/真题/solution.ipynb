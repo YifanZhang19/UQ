{
 "cells": [
  {
   "cell_type": "markdown",
   "metadata": {},
   "source": [
    "![Alt text](./1a.jpeg \"optional title\")\n",
    "![Alt text](./1b.jpeg \"optional title\")\n",
    "![Alt text](./1c.jpeg \"optional title\")"
   ]
  },
  {
   "cell_type": "code",
   "execution_count": 2,
   "metadata": {},
   "outputs": [
    {
     "data": {
      "text/plain": [
       "'pythonpythonpython'"
      ]
     },
     "execution_count": 2,
     "metadata": {},
     "output_type": "execute_result"
    }
   ],
   "source": [
    "'python'*3"
   ]
  },
  {
   "cell_type": "code",
   "execution_count": 1,
   "metadata": {},
   "outputs": [
    {
     "data": {
      "text/plain": [
       "'1.a output: PythonPythonPython, type: str'"
      ]
     },
     "execution_count": 1,
     "metadata": {},
     "output_type": "execute_result"
    }
   ],
   "source": [
    "'1.a output: PythonPythonPython, type: str'"
   ]
  },
  {
   "cell_type": "code",
   "execution_count": 3,
   "metadata": {},
   "outputs": [
    {
     "data": {
      "text/plain": [
       "\"1.b output: '8080' , type str\""
      ]
     },
     "execution_count": 3,
     "metadata": {},
     "output_type": "execute_result"
    }
   ],
   "source": [
    "\"1.b output: '8080' , type str\""
   ]
  },
  {
   "cell_type": "code",
   "execution_count": 4,
   "metadata": {},
   "outputs": [
    {
     "data": {
      "text/plain": [
       "'1.c output: False   type:  bool'"
      ]
     },
     "execution_count": 4,
     "metadata": {},
     "output_type": "execute_result"
    }
   ],
   "source": [
    "\"1.c output: False   type:  bool\""
   ]
  },
  {
   "cell_type": "markdown",
   "metadata": {},
   "source": [
    "![Alt text](./2.jpeg \"optional title\")"
   ]
  },
  {
   "cell_type": "code",
   "execution_count": 3,
   "metadata": {},
   "outputs": [],
   "source": [
    "def re_double_factorial(num):\n",
    "    if num == 0 or num == -1:\n",
    "        return 1\n",
    "    else:\n",
    "        return num * re_double_factorial(num - 2)"
   ]
  },
  {
   "cell_type": "markdown",
   "metadata": {},
   "source": [
    "![Alt text](./31.jpeg \"optional title\")\n",
    "![Alt text](./32.jpeg \"optional title\")\n",
    "![Alt text](./33.jpeg \"optional title\")\n",
    "![Alt text](./34.jpeg \"optional title\")"
   ]
  },
  {
   "cell_type": "code",
   "execution_count": 8,
   "metadata": {},
   "outputs": [],
   "source": [
    "\"3.a\"\n",
    "class Twist:\n",
    "    def __init__(self):\n",
    "        self.play_words = []\n",
    "        self.game_over = False\n",
    "    \n",
    "        \n",
    "    def play_game(self, word):\n",
    "        if len(self.play_words) == 0:\n",
    "            self.play_words.append(word)\n",
    "            return self.play_words\n",
    "\n",
    "        last_w = self.play_words[-1]\n",
    "        last_c = last_w[-1]\n",
    "        first_c = word[0]\n",
    "        if first_c.lower() == last_c.lower() and word not in self.play_words:\n",
    "            self.play_words.append(word)\n",
    "            return self.play_words\n",
    "        else:\n",
    "            self.game_over = True\n",
    "            return 'Game Over'\n",
    "            \n",
    "\n",
    "    \n",
    "    def restart_game(self):\n",
    "        self.play_words = []\n",
    "        self.game_over = False\n",
    "        return 'Start New Game'\n",
    "    \n",
    "    def main(self):\n",
    "        while not self.game_over:\n",
    "            word = input(\"Enter a word\")\n",
    "            if len(word) == 0 or len(word.strip()) == 0:\n",
    "                break\n",
    "            while ' ' in word or not word.isalpha() or len(word) < 4:\n",
    "                print(\"word should only be alphabets and more than 4 letters and should not with space\")\n",
    "                word = input(\"enter your word in alphabets again\")\n",
    "\n",
    "            result = self.play_game(word)  \n",
    "            if result == 'Game Over':\n",
    "                self.restart_game()\n",
    "            print(result)    \n",
    "        print('Game end')\n",
    "\n",
    "\"3.b\"\n",
    "twist = Twist()\n",
    "twist.main()\n",
    "\n"
   ]
  },
  {
   "cell_type": "markdown",
   "metadata": {},
   "source": [
    "![Alt text](./4.jpeg \"optional title\")"
   ]
  },
  {
   "cell_type": "code",
   "execution_count": 9,
   "metadata": {},
   "outputs": [
    {
     "name": "stdout",
     "output_type": "stream",
     "text": [
      "1 2\n",
      "3 4\n"
     ]
    }
   ],
   "source": [
    "temp_dict = {1:2,3:4}\n",
    "for k,v in temp_dict.items():\n",
    "    print(k,v)"
   ]
  },
  {
   "cell_type": "code",
   "execution_count": 9,
   "metadata": {},
   "outputs": [],
   "source": [
    "# 4\n",
    "def single_to_plural(word_list):\n",
    "    word_dict = {}\n",
    "    result = set()\n",
    "    for word in word_list:\n",
    "        if word in word_dict:\n",
    "            word_dict[word] += 1\n",
    "        else:\n",
    "            word_dict[word] = 1\n",
    "\n",
    "    for key,value in word_dict.items():\n",
    "        if value > 1:\n",
    "            result.add(key + \"s\")\n",
    "        else:\n",
    "            result.add(key)\n",
    "    return result"
   ]
  },
  {
   "cell_type": "markdown",
   "metadata": {},
   "source": [
    "![Alt text](./5.jpeg \"optional title\")"
   ]
  },
  {
   "cell_type": "code",
   "execution_count": 10,
   "metadata": {},
   "outputs": [],
   "source": [
    "# 5\n",
    "def string_reverse(myString):\n",
    "    cur = 0\n",
    "    n = len(myString)\n",
    "    list_string = list(myString)\n",
    "    result = \"\"\n",
    "    \n",
    "    for i in range(n-1,-1,-1):\n",
    "        if list_string[cur].isupper():\n",
    "            result += list_string[i].upper()\n",
    "        elif list_string[cur].islower():\n",
    "            result += list_string[i].lower()\n",
    "        else:\n",
    "            result += list_string[i]\n",
    "        cur += 1\n",
    "    return result"
   ]
  },
  {
   "cell_type": "markdown",
   "metadata": {},
   "source": [
    "![Alt text](./6a1.jpeg )\n",
    "![Alt text](./6b1.jpeg )\n",
    "![Alt text](./6b2.jpeg )\n",
    "![Alt text](./6c.jpeg )"
   ]
  },
  {
   "cell_type": "code",
   "execution_count": 11,
   "metadata": {},
   "outputs": [],
   "source": [
    "# 6\n",
    "#a\n",
    "def list_multi(number,length):\n",
    "    result = []\n",
    "    for i in range(1,length + 1):\n",
    "        result.append(number * i)\n",
    "    return result\n",
    "#b\n",
    "def odd_in_list(listMulti):\n",
    "    result = -1\n",
    "    for num in listMulti:\n",
    "        if num % 2 == 1 and num > result:\n",
    "            result = num\n",
    "    return result\n",
    "#c\n",
    "def oddish_evenish(largestodd):\n",
    "    if largestodd < 0:\n",
    "        return \"None\"\n",
    "    num_sum = 0\n",
    "    for i in str(largestodd):\n",
    "        num += int(i)\n",
    "        \n",
    "    if num_sum % 2 == 0:\n",
    "        return \"Evenish\"\n",
    "    elif num_sum % 2 != 0:\n",
    "        return \"Oddish\""
   ]
  },
  {
   "cell_type": "markdown",
   "metadata": {},
   "source": [
    "![Alt text](./71.jpeg \"optional title\")\n",
    "![Alt text](./72.jpeg \"optional title\")"
   ]
  },
  {
   "cell_type": "code",
   "execution_count": null,
   "metadata": {},
   "outputs": [],
   "source": [
    "\"7\"\n",
    "def date_compare(date1, date2):\n",
    "    date1_detail = date1.split('_') # ['10','02','2018','12:30']\n",
    "    date2_detail = date2.split('_') # ['10','02','2018','12:15']\n",
    "    time1 = date1_detail[-1].split(':') # [12, 30]\n",
    "    time2 = date2_detail[-1].split(':') # [12, 15]\n",
    "\n",
    "    if int(date1_detail[2]) > int(date2_detail[2]):\n",
    "        return True\n",
    "    elif int(date1_detail[1]) > int(date2_detail[1]):\n",
    "        return True\n",
    "    elif int(date1_detail[0]) > int(date2_detail[0]):\n",
    "        return True\n",
    "    elif int(time1[0]) > int(time2[0]):\n",
    "        return True\n",
    "    elif int(time1[1]) > int(time2[1]):\n",
    "        return True\n",
    "    else:\n",
    "        return False\n",
    "\n",
    "def insertion_sort_date(list_of_date, mode):\n",
    "    the_no_list = range(1, len(list_of_date))\n",
    "    for i in the_no_list:\n",
    "        position = i\n",
    "        current = list_of_date[i]\n",
    "        if mode == 'ASC':\n",
    "            while position > 0 and date_compare(list_of_date[position-1],current):\n",
    "                list_of_date[position] = list_of_date[position-1]\n",
    "                position -= 1\n",
    "                list_of_date[position] = current\n",
    "        \n",
    "        if mode == 'DSC':\n",
    "            while position > 0 and not date_compare(list_of_date[position-1],current):\n",
    "                list_of_date[position] = list_of_date[position-1]\n",
    "                position -= 1\n",
    "                list_of_date[position] = current\n",
    "    return list_of_date"
   ]
  },
  {
   "cell_type": "markdown",
   "metadata": {},
   "source": [
    "![Alt text](./8.jpeg)"
   ]
  },
  {
   "cell_type": "code",
   "execution_count": 12,
   "metadata": {},
   "outputs": [
    {
     "data": {
      "text/plain": [
       "'\\nh d i b i w \\nd h i b I w\\nd h i b I w\\nb d h i I w\\nI b d h i w\\nI b d h i w\\n'"
      ]
     },
     "execution_count": 12,
     "metadata": {},
     "output_type": "execute_result"
    }
   ],
   "source": [
    "\"8.\"\n",
    "\"\"\"\n",
    "h d i b i w \n",
    "d h i b I w\n",
    "d h i b I w\n",
    "b d h i I w\n",
    "I b d h i w\n",
    "I b d h i w\n",
    "\"\"\""
   ]
  },
  {
   "cell_type": "markdown",
   "metadata": {},
   "source": [
    "![Alt text](./9a.jpeg)\n",
    "![Alt text](./9b.jpeg)\n",
    "![Alt text](./9c.jpeg)"
   ]
  },
  {
   "cell_type": "code",
   "execution_count": 3,
   "metadata": {},
   "outputs": [
    {
     "data": {
      "text/plain": [
       "['abc', 'bbb', '123']"
      ]
     },
     "execution_count": 3,
     "metadata": {},
     "output_type": "execute_result"
    }
   ],
   "source": [
    "[i for i in 'abc000bbb000123'.split('0') if i != '']"
   ]
  },
  {
   "cell_type": "code",
   "execution_count": 5,
   "metadata": {},
   "outputs": [
    {
     "name": "stdout",
     "output_type": "stream",
     "text": [
      "10\n"
     ]
    }
   ],
   "source": [
    "a =10\n",
    "print(f\"{a}\")"
   ]
  },
  {
   "cell_type": "code",
   "execution_count": 13,
   "metadata": {},
   "outputs": [],
   "source": [
    "def decode(inputFile, outputFile):\n",
    "    output = []\n",
    "    read_file_handler = open(input_file, 'r')\n",
    "    file_content = read_file_handler.readlines()\n",
    "    read_file_handler.close()\n",
    "    # file_content = [i for i in file_content if i != '\\n']\n",
    "    for line in file_content:\n",
    "        items = [i for i in line.split('0') if i != '']\n",
    "        first_name = items[0]\n",
    "        last_name = items[1]\n",
    "        sid = items[2]\n",
    "        output.append(f'\"first_name\":\"{first_name}\",\"last_name\":\"{last_name}\",\"id\":\"{sid}\"')\n",
    "    output_file_handler = open(outputFile,'w')\n",
    "    output_file_handler.writelines(str(output))\n",
    "    output_file_handler.close()\n"
   ]
  },
  {
   "cell_type": "code",
   "execution_count": null,
   "metadata": {},
   "outputs": [],
   "source": [
    "def decode(inputFile, outputFile):\n",
    "    output = []\n",
    "    try:\n",
    "        read_file_handler = open(input_file, 'r')\n",
    "        file_content = read_file_handler.readlines()\n",
    "        file_content = [i for i in file_content if i != '\\n']\n",
    "        for line in file_content:\n",
    "            items = [i for i in line.split('0') if i != '']\n",
    "            first_name = items[0].replace('0','')\n",
    "            last_name = items[1].replace('0','')\n",
    "            sid = items[2].replace('0','')\n",
    "            output.append(f'\"first_name\":\"{first_name}\",\"last_name\":\"{last_name}\",\"id\":\"{sid}\"')\n",
    "        output_file_handler = open(outputFile,'w')\n",
    "        output_file_handler.writelines(output)\n",
    "        output_file_handler.close()\n",
    "    except IOError:\n",
    "        print('The path of file is incorrect!')\n",
    "        return None\n",
    "    else:\n",
    "        read_file_handler.close()\n",
    "        output_file_handler.close()"
   ]
  }
 ],
 "metadata": {
  "interpreter": {
   "hash": "caa89e26faadfbbc8e3b9344da98b3d81be716fc86e361284bc8a1a1b67b5656"
  },
  "kernelspec": {
   "display_name": "Python 3.7.6 64-bit ('data_env': conda)",
   "name": "python3"
  },
  "language_info": {
   "codemirror_mode": {
    "name": "ipython",
    "version": 3
   },
   "file_extension": ".py",
   "mimetype": "text/x-python",
   "name": "python",
   "nbconvert_exporter": "python",
   "pygments_lexer": "ipython3",
   "version": "3.7.6"
  },
  "orig_nbformat": 4
 },
 "nbformat": 4,
 "nbformat_minor": 2
}
