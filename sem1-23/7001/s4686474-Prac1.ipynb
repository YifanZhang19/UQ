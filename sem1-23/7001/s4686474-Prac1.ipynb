{
 "cells": [
  {
   "cell_type": "markdown",
   "metadata": {},
   "source": [
    "# Introduction to R"
   ]
  },
  {
   "cell_type": "markdown",
   "metadata": {},
   "source": [
    "## Overview"
   ]
  },
  {
   "cell_type": "markdown",
   "metadata": {},
   "source": [
    "R is one of the most widely used open source tools for statistical computing. It has a huge community with a lot of support, and a large number of packages have been contributed by the community.\n",
    "\n",
    "This Prac is aimed to teach the basics of R, which will serve as foundation for the future Pracs. The topics of R covered in this pracs include the following\n",
    "* data structures\n",
    "* filtering and data quality operations\n",
    "* loops and conditional statements\n",
    "* commonly used statistical functions"
   ]
  },
  {
   "cell_type": "markdown",
   "metadata": {},
   "source": [
    "## Instructions\n",
    "<strong> This Prac is assessed, and the tasks are based on the demos/content from labs / lecture / tutorial and their materials. </strong>\n",
    "\n",
    "Complete the tasks given. \n",
    "* <strong>Make sure the R script submitted has no syntactical error, in which case a zero will be awarded for this Prac. Tutors will direct you on how to identify syntactical errors in your script; in short, just make sure you can successfully run the whole notebook end without any errors.</strong>\n",
    "\n",
    "Additional Note\n",
    "* Variable names and strings are case-sensitive in R\n",
    "* Use of any packages to achieve the objective is strictly prohibited - unless explicitly mentioned in the question to do so.\n",
    "* Any updates regarding the Pracs will be posted on <strong>[Ed discussion](https://edstem.org/au/courses/10549/discussion/)</strong>"
   ]
  },
  {
   "cell_type": "markdown",
   "metadata": {
    "jp-MarkdownHeadingCollapsed": true,
    "tags": []
   },
   "source": [
    "## Submission [After Prac 2]\n",
    "\n",
    "This notebook, along with the \"Prac2\" notebook (next week) will make upyour \"Practical Assessment 1\" task which is worth 10% and is due **at 4pm on Friday March 31st (end of Week 6)** \n",
    "\n",
    "After completing the tasks in this notebook, download the notebook as an R file to your local system. This can be done by \"File > Download as > R\". Rename the downloaded R file with your \"UQ Login-id\" and the specific prac - for example, `s4477608-Prac1.r`\n",
    "* If you are not working within the UQ zones, please ensure you upload this .R file to your jupyter notebook inside the UQ zone; use the same folder as that of this notebook, that is, inside \"Prac1\" folder.\n",
    "* Once you complete the next practical, bundle this .R file and that second practical's .R file together inside a zip file using your student identifier (s4477608-practical-1.zip) and submit it on the LMS \"Assessment Tasks > Practical Assessment 1\"\n",
    "    * That is, your .zip file should contain two .R files; one for the first, and one for the second practical.\n",
    " "
   ]
  },
  {
   "cell_type": "markdown",
   "metadata": {},
   "source": [
    "## 1. Data Quality \n",
    "Imported data would contain multiple inconsistencies and quality issues. The following tasks aims to provide an example of some of the inconsistencies and quality issues.\n"
   ]
  },
  {
   "cell_type": "markdown",
   "metadata": {},
   "source": [
    "Data can be imported from multiple sources like CSV, JSON, Relational Database, and so on. We will be dealing with simple CSV files. Below is shown a Sample Task, and sample solution to import a csv file."
   ]
  },
  {
   "cell_type": "markdown",
   "metadata": {},
   "source": [
    "|<center>Sample TASK - 1</center>|\n",
    "| ---- |\n",
    "| Import data from \"unclean1.csv\" using `read.csv` function. Store the data into a variable called \"unclean1\". <br>Import data from \"iris1.csv\" into a variable called \"d1\". First row of \"iris1.csv\" is the column header of \"d1\" dataframe (Use `header` argument of `read.csv` to assign the same). <br> String columns should NOT be imported as factors for both the cases (use `stringsAsFactors` argument of `read.csv` to achieve the same). |"
   ]
  },
  {
   "cell_type": "code",
   "execution_count": null,
   "metadata": {},
   "outputs": [],
   "source": [
    "# Place your answer here (Sample Solution)\n",
    "unclean1 = read.csv(\"datasets/unclean1.csv\", header=FALSE, stringsAsFactors=FALSE)\n",
    "d1 = read.csv(\"datasets/iris1.csv\", header=TRUE, stringsAsFactors=FALSE)"
   ]
  },
  {
   "cell_type": "markdown",
   "metadata": {
    "tags": []
   },
   "source": [
    "### Data Inconsistency"
   ]
  },
  {
   "cell_type": "markdown",
   "metadata": {},
   "source": [
    "|<center>TASK 1.1</center>|\n",
    "| ---- |\n",
    "| Make a copy of \"unclean1\" dataframe, and name it \"clean1\". <br> The last row of \"clean1\" dataframe contains the column header. Assign \"clean1\" column header using its last row, and also remove its last row (from the \"clean1\" data frame). <br> Reminder: please don't hard-code the row number of the last row. |"
   ]
  },
  {
   "cell_type": "code",
   "execution_count": null,
   "metadata": {},
   "outputs": [],
   "source": [
    "# Place your answer here\n",
    "clean1 = data.frame(unclean1)\n",
    "colnames(clean1) = clean1[nrow(clean1),]\n",
    "clean1 = clean1[-nrow(clean1),]\n",
    "clean1"
   ]
  },
  {
   "cell_type": "markdown",
   "metadata": {},
   "source": [
    "### Data Type Mismatch\n",
    "When the data is imported the data types assigned by default might not completely match the underlying data. \n",
    "You can check the structure of the data using `str` function, and assign the correct data types using functions like `as.numeric`, `as.character`, `as.factor`, `as.integer`, ..."
   ]
  },
  {
   "cell_type": "markdown",
   "metadata": {},
   "source": [
    "|<center>TASK 1.2</center>|\n",
    "| ---- |\n",
    "| Make a copy of \"clean1\" data frame, and name it \"datatype1\". Sepal.Length, Sepal.Width, Petal.Length, Petal.Width columns should be of type numeric, and Species column should be of type character. Check if the columns of \"datatype1\" match their respective data types, fix the same if not correct.  |"
   ]
  },
  {
   "cell_type": "code",
   "execution_count": null,
   "metadata": {},
   "outputs": [],
   "source": [
    "# Place your answer here\n",
    "datatype1 <- data.frame(clean1)\n",
    "datatype1$Sepal.Length <- as.numeric(datatype1$Sepal.Length)\n",
    "datatype1$Sepal.Width <- as.numeric(datatype1$Sepal.Width)\n",
    "datatype1$Petal.Length <- as.numeric(datatype1$Petal.Length)\n",
    "datatype1$Petal.Width <- as.numeric(datatype1$Petal.Width)\n",
    "str(datatype1)"
   ]
  },
  {
   "cell_type": "markdown",
   "metadata": {},
   "source": [
    "### Handling NA's for Arithmetic Operation\n",
    "Arithmetic operations such as mean/sum might not perform as expected when the underlying data has missing values. There are many ways to handle missingness, and ignoring the NA's is one of the method."
   ]
  },
  {
   "cell_type": "markdown",
   "metadata": {},
   "source": [
    "|<center>TASK 1.3</center>|\n",
    "| ---- |\n",
    "| Find the mean of \"Petal.Width\" column of \"datatype1\". Note: consider using `na.rm` parameter of mean function to handle the NA's of this column. Store the result inside \"mean_narm\" |"
   ]
  },
  {
   "cell_type": "code",
   "execution_count": null,
   "metadata": {},
   "outputs": [],
   "source": [
    "# Place your answer here\n",
    "mean_narm <- mean(datatype1$Petal.Width, , na.rm = TRUE)\n",
    "mean_narm"
   ]
  },
  {
   "cell_type": "markdown",
   "metadata": {},
   "source": [
    "### Data Missingness\n",
    "There are many kind of missingness defined in R. Most common of those are `NA`, `NULL`, and `empty strings`. "
   ]
  },
  {
   "cell_type": "markdown",
   "metadata": {},
   "source": [
    "|<center>TASK 1.4</center>|\n",
    "| ---- |\n",
    "| Make a copy of \"datatype1\" data frame, and name it \"clean2\". Remove rows of \"clean2\" which contains missing values (NA, empty strings) in any of its columns. |"
   ]
  },
  {
   "cell_type": "code",
   "execution_count": null,
   "metadata": {},
   "outputs": [],
   "source": [
    "# Place your answer here\n",
    "clean2 <- data.frame(datatype1)\n",
    "clean2[clean2==''] <- NA\n",
    "clean2 <- clean2[complete.cases(clean2),]\n",
    "clean2"
   ]
  },
  {
   "cell_type": "markdown",
   "metadata": {},
   "source": [
    "### Combining Data From JSON and CSV\n",
    "In most situations, data needs to be combined from various sources like CSV, json, ... You can combine data frames loaded from different sources using `rbind` function, provided they have the same structure."
   ]
  },
  {
   "cell_type": "markdown",
   "metadata": {},
   "source": [
    "|<center>TASK 1.5</center>|\n",
    "| ---- |\n",
    "| Combine contents of \"iris3.json\" and \"iris4.csv\" using `rbind` function, and store the resultant dataframe inside \"rbind1\". <br> Import `JSON` data using `read_json` function of `jsonlite` package. Use `simplifyVector` argument of `read_json` function to read json correctly as a dataframe |"
   ]
  },
  {
   "cell_type": "code",
   "execution_count": null,
   "metadata": {},
   "outputs": [],
   "source": [
    "# Place your answer here\n",
    "library(jsonlite)\n",
    "iris3 <- read_json(\"datasets/iris3.json\", simplifyVector = TRUE)\n",
    "iris4 <- read.csv(\"datasets/iris4.csv\")\n",
    "rbind1 <- rbind(iris3, iris4)\n",
    "rbind1"
   ]
  },
  {
   "cell_type": "markdown",
   "metadata": {},
   "source": [
    "### Filtering Data"
   ]
  },
  {
   "cell_type": "markdown",
   "metadata": {},
   "source": [
    "|<center>TASK 1.6</center>|\n",
    "| ---- |\n",
    "| Store the first 5 rows and the last 10 rows of \"d1\" inside \"select1\"|"
   ]
  },
  {
   "cell_type": "code",
   "execution_count": null,
   "metadata": {},
   "outputs": [],
   "source": [
    "# Place your answer here\n",
    "select1 <- rbind(head(d1, 5), tail(d1, 10))\n",
    "select1"
   ]
  },
  {
   "cell_type": "markdown",
   "metadata": {},
   "source": [
    "|<center>TASK 1.7</center>|\n",
    "| ---- |\n",
    "| Make a copy of \"d1\" data frame, and name it \"select2\". Remove all rows of \"select2\" whose Species is versicolor. |"
   ]
  },
  {
   "cell_type": "code",
   "execution_count": null,
   "metadata": {},
   "outputs": [],
   "source": [
    "# Place your answer here\n",
    "select2 <- data.frame(d1)\n",
    "select2 <- select2[select2$Species != \"versicolor\", ]\n",
    "select2"
   ]
  },
  {
   "cell_type": "markdown",
   "metadata": {},
   "source": [
    "|<center>TASK 1.8</center>|\n",
    "| ---- |\n",
    "| Make a copy of \"d1\" data frame, and name it \"select3\". Set \"Petal.Length\" column values of \"select3\" data frame to 0 whose Species is setosa. |"
   ]
  },
  {
   "cell_type": "code",
   "execution_count": null,
   "metadata": {},
   "outputs": [],
   "source": [
    "# Place your answer here\n",
    "select3 <- data.frame(d1)\n",
    "select3$Petal.Length[which(select3$Species == 'setosa')] <- '0'\n",
    "select3"
   ]
  },
  {
   "cell_type": "markdown",
   "metadata": {},
   "source": [
    "## 2. Factors\n",
    "All categorical features should be stored as `factor` in R. Each category should be a `level` of that factor."
   ]
  },
  {
   "cell_type": "markdown",
   "metadata": {},
   "source": [
    "|<center>TASK 2.1</center>|\n",
    "| ---- |\n",
    "| Given that there are 3 distinct species of iris - \"setosa\", \"versicolor\", \"virginica\", find the count of occurrence of each Species in \"select2\" using `table` function. Store the resultant count inside \"count1\" vector. Name of each element of the vector should be its corresponding Species. Hint: you have to convert the column into `factor` and mention the `levels` before you perform the count. |"
   ]
  },
  {
   "cell_type": "code",
   "execution_count": null,
   "metadata": {},
   "outputs": [],
   "source": [
    "# Place your answer here\n",
    "count1 <- table(factor(select2$Species, levels = c(\"setosa\", \"versicolor\", \"virginica\")))\n",
    "count1"
   ]
  },
  {
   "cell_type": "markdown",
   "metadata": {},
   "source": [
    "## 3. User Defined Function"
   ]
  },
  {
   "cell_type": "markdown",
   "metadata": {},
   "source": [
    "User-Defined function can be used to create functions which can perform custom operation."
   ]
  },
  {
   "cell_type": "markdown",
   "metadata": {},
   "source": [
    "|<center>TASK 3.1</center>|\n",
    "| ---- |\n",
    "| Create a function called \"fun1\" which takes 2 square matrices as input parameters (x1,x2). The function should return the sum of determinant of the matrices. Note: you DONT have to check if \"x1\" and \"x2\" are square matrices|"
   ]
  },
  {
   "cell_type": "code",
   "execution_count": null,
   "metadata": {},
   "outputs": [],
   "source": [
    "# Place your answer here\n",
    "fun1 <- function(x1, x2) {\n",
    "    sum <- (det(x1) + det(x2))\n",
    "    return(sum)\n",
    "}"
   ]
  },
  {
   "cell_type": "markdown",
   "metadata": {},
   "source": [
    "## 4. Common/Important Functions and Operations "
   ]
  },
  {
   "cell_type": "markdown",
   "metadata": {},
   "source": [
    "### Basic Arithmetic Operation"
   ]
  },
  {
   "cell_type": "markdown",
   "metadata": {},
   "source": [
    "|<center>TASK 4.1</center>|\n",
    "| ---- |\n",
    "| Find the sum of \"Petal.Length\" column of \"d1\". Store the result inside vector \"sum1\" vector |"
   ]
  },
  {
   "cell_type": "code",
   "execution_count": null,
   "metadata": {},
   "outputs": [],
   "source": [
    "# Place your answer here\n",
    "sum1 <- sum(d1$Petal.Length)\n",
    "sum1"
   ]
  },
  {
   "cell_type": "markdown",
   "metadata": {},
   "source": [
    "### Apply Function\n",
    "Apply function can be used to perform operations on rows / columns of data frame or matrices"
   ]
  },
  {
   "cell_type": "markdown",
   "metadata": {},
   "source": [
    "|<center>TASK 4.2</center>|\n",
    "| ---- |\n",
    "| Find the \"sum/median\" (SUM divided by MEDIAN) of all the numeric columns of \"d1\" using `apply` function. Store the result inside \"apply1\". Note: you have to use `is.numeric` to find if a column is numeric or not. |"
   ]
  },
  {
   "cell_type": "code",
   "execution_count": null,
   "metadata": {},
   "outputs": [],
   "source": [
    "# Place your answer here\n",
    "apply1 <- apply(d1[, sapply(d1, is.numeric)], 2, function(x) sum(x)/median(x))\n",
    "apply1"
   ]
  },
  {
   "cell_type": "markdown",
   "metadata": {},
   "source": [
    "### Aggregate Function\n",
    "Aggregate function proves useful when we want to perform aggregation on each and every categories of data. \n"
   ]
  },
  {
   "cell_type": "markdown",
   "metadata": {},
   "source": [
    "|<center>TASK 4.3</center>|\n",
    "| ---- |\n",
    "| Find the sum of \"Petal.Length\",\"Petal.Width\", \"Sepal.Length\", \"Sepal.Width\" of \"d1\" for each Species using `aggregate` function. The result should be a data frame where the column name are the names of numeric columns of \"d1\" and the row names are the names of the Species. Store the result inside \"agg1\" |"
   ]
  },
  {
   "cell_type": "code",
   "execution_count": null,
   "metadata": {},
   "outputs": [],
   "source": [
    "# Place your answer here\n",
    "agg1 <- aggregate(x = d1[ , colnames(d1) != \"Species\"],\n",
    "          by = list(d1$Species),\n",
    "          FUN = sum)\n",
    "agg1"
   ]
  },
  {
   "cell_type": "markdown",
   "metadata": {},
   "source": [
    "|<center>TASK 4.4</center>|\n",
    "| ---- |\n",
    "| Load \"script1.R\" using `source` function.<strong> You will be making use of the objects created inside this script in subsequent tasks. Please note that the contents of the objects inside this script will be changed during marking. So please dont hard code your answers.</strong>  |"
   ]
  },
  {
   "cell_type": "code",
   "execution_count": null,
   "metadata": {},
   "outputs": [],
   "source": [
    "# Place your answer here\n",
    "source(\"script1.R\")"
   ]
  },
  {
   "cell_type": "markdown",
   "metadata": {},
   "source": [
    "## 5. Lists\n",
    "\n",
    "List can store any type of objects inside it. It is mainly used to return multiple objects from a function."
   ]
  },
  {
   "cell_type": "markdown",
   "metadata": {},
   "source": [
    "|<center>TASK 5.1</center>|\n",
    "| ---- |\n",
    "| Create a function called \"fun2\" which takes 2 matrix as input parameters (x1,x2). It should return a list where the 1st element of list is the first matrix, 2nd element of the list is the 2nd matrix, 3rd element of the list is the vector which contain the sum of determinant of the two matrices.  |"
   ]
  },
  {
   "cell_type": "code",
   "execution_count": null,
   "metadata": {},
   "outputs": [],
   "source": [
    "# Place your answer here\n",
    "fun2 <- function(x1, x2){\n",
    "    det_sum <- det(x1) + det(x2)\n",
    "    return(list(x1, x2, det_sum))\n",
    "}\n"
   ]
  },
  {
   "cell_type": "markdown",
   "metadata": {},
   "source": [
    "### lapply & sapply\n",
    "lapply and sapply can be used to iterate through elements of the list to perform some operation."
   ]
  },
  {
   "cell_type": "markdown",
   "metadata": {},
   "source": [
    "|<center>TASK 5.2</center>|\n",
    "| ---- |\n",
    "| Find the sum of determinant of matrices present inside the \"list1\" (loaded from \"script1.R\") using `lapply`. Store the result inside \"lapply1\" vector. <br> Perform the same operation using `sapply` and store the result inside \"sapply1\" vector. <br> Note: you have to check if an element of \"list1\" is matrix or not. That is, \"list1\" might contain 10 elements, but only 4 of them might be a matrix, which needs to be checked. |"
   ]
  },
  {
   "cell_type": "code",
   "execution_count": null,
   "metadata": {},
   "outputs": [],
   "source": [
    "# Place your answer here\n",
    "lapply1 <- lapply(list1, function(x) if (is.matrix(x)) det(x) else 0)\n",
    "lapply1 <- sum(unlist(lapply1))\n",
    "sapply1 <- sum(sapply(list1, function(x) if (is.matrix(x)) det(x) else 0))\n"
   ]
  },
  {
   "cell_type": "markdown",
   "metadata": {},
   "source": [
    "## 6. Loops\n",
    "\n",
    "Loops can be used to \n",
    "* execute tasks \"n\" number of times\n",
    "* iterate through elements of an object\n",
    "* and so on"
   ]
  },
  {
   "cell_type": "markdown",
   "metadata": {},
   "source": [
    "|<center>TASK 6.1</center>|\n",
    "| ---- |\n",
    "| Find the sum of determinant of matrices present inside the \"list1\" (loaded from \"script1.R\") using `for` loop. Store the result inside vector \"for1\". Perform the same operation using `while` loop. Store the result inside \"while1\" vector. Note: you have to check if an element of the list is matrix or not.  |"
   ]
  },
  {
   "cell_type": "code",
   "execution_count": null,
   "metadata": {},
   "outputs": [],
   "source": [
    "# Place your answer here\n",
    "for1 <- 0\n",
    "for (i in 1:length(list1)) {\n",
    "  if (is.matrix(list1[[i]])) {\n",
    "    for1 <- for1 + det(list1[[i]])\n",
    "  }\n",
    "}\n",
    "\n",
    "while1 <- 0\n",
    "i <- 1\n",
    "while (i <= length(list1)) {\n",
    "  if (is.matrix(list1[[i]])) {\n",
    "    while1 <- while1 + det(list1[[i]])\n",
    "  }\n",
    "  i <- i + 1\n",
    "}"
   ]
  },
  {
   "cell_type": "code",
   "execution_count": null,
   "metadata": {},
   "outputs": [],
   "source": [
    "print(\"This Line gets printed if there is no major error, when Kernel -> Restart & Run All\")"
   ]
  },
  {
   "cell_type": "code",
   "execution_count": null,
   "metadata": {},
   "outputs": [],
   "source": []
  }
 ],
 "metadata": {
  "kernelspec": {
   "display_name": "R",
   "language": "R",
   "name": "ir"
  },
  "language_info": {
   "codemirror_mode": "r",
   "file_extension": ".r",
   "mimetype": "text/x-r-source",
   "name": "R",
   "pygments_lexer": "r",
   "version": "4.2.2"
  }
 },
 "nbformat": 4,
 "nbformat_minor": 4
}
