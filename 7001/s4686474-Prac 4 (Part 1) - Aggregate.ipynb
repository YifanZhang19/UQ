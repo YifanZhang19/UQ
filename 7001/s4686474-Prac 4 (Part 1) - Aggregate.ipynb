{
 "cells": [
  {
   "cell_type": "markdown",
   "metadata": {},
   "source": [
    "## Instructions\n",
    "<strong> This Prac is assessed, and the tasks are based on the demos/content from labs / lecture / tutorial and their materials. </strong>\n",
    "\n",
    "Complete the tasks given. \n",
    "\n",
    "* <strong>Make sure the R script submitted has no syntactical error, in which case a zero will be awarded for this Prac. Tutors will direct you on how to identify syntactical errors in your script.</strong>\n",
    "\n",
    "Additional Note\n",
    "* Variable names and strings are case-sensitive in R\n",
    "* Use of any packages to achieve the objective is strictly prohibited - unless explicitly mentioned in the question to do so\n",
    "* Any updates regarding the Pracs will be posted on <strong>[Ed discussion](https://edstem.org/au/courses/10549/discussion/)</strong>\n",
    "* You may find it helpful to read through the whole notebook and learn from the examples first, before solving the problems"
   ]
  },
  {
   "cell_type": "markdown",
   "metadata": {},
   "source": [
    "## Submission [After Prac 5]\n",
    "\n",
    "This notebook, along with the \"Prac3\" and \"Prac5\" notebook will make up your \"Practical Assessment 2\" task which is worth 10% and is due **at 4pm on Friday May 5th (end of Week 10).** \n",
    "\n",
    "**Please refer to the submission guide on the LMS (Blackboard) for specific instructions.**\n",
    "\n",
    "* If you are not working within the UQ zones, please ensure you upload your work to your jupyter notebook inside the UQ zone using the same folder as that of this notebook.\n",
    "\n",
    "**NOTE:** Prac 4 (this prac) has two notebooks for assessment; \n",
    " - Prac4 (Part 1) - Aggregate\n",
    " - Prac4 (Part 2) - Statistical Learning\n",
    " "
   ]
  },
  {
   "cell_type": "markdown",
   "metadata": {},
   "source": [
    "# Data Aggregation\n",
    "\n",
    "This is a simple/short exercise for you to practice writing your own aggregation operations on data.\n",
    "Let's start by reading an example dataset and looking at its dimensions. This dataset is the same HR analytics dataset from Prac1 and Prac 3. It is located in the current directory and is named `HR_comma_sep.csv`."
   ]
  },
  {
   "cell_type": "markdown",
   "metadata": {},
   "source": [
    "#### Read the \"HR_comma_sep\" dataset and print the dimension (rows and colums) of the dataset "
   ]
  },
  {
   "cell_type": "markdown",
   "metadata": {},
   "source": [
    "|<center>TASK 1</center>|\n",
    "| ---- |\n",
    "| Read the \"HR_comma_sep\" dataset and print the dimesion (rows and colums) of the dataset (Don't consider the header)|"
   ]
  },
  {
   "cell_type": "markdown",
   "metadata": {},
   "source": [
    "### Solution"
   ]
  },
  {
   "cell_type": "code",
   "execution_count": null,
   "metadata": {},
   "outputs": [],
   "source": [
    "import pandas as pd\n",
    "\n",
    "HR_comma_sep = pd.read_csv('HR_comma_sep.csv')\n",
    "rows, cols = HR_comma_sep.shape\n",
    "print(\"Rows:\", rows)\n",
    "print(\"Columns:\", cols)"
   ]
  },
  {
   "cell_type": "markdown",
   "metadata": {},
   "source": [
    "|<center>TASK 2</center>|\n",
    "| ---- |\n",
    "| What was the average number of monthly hours? |"
   ]
  },
  {
   "cell_type": "markdown",
   "metadata": {},
   "source": [
    "### Solution"
   ]
  },
  {
   "cell_type": "code",
   "execution_count": null,
   "metadata": {},
   "outputs": [],
   "source": [
    "avg_monthly_hours = HR_comma_sep['average_montly_hours'].mean()\n",
    "print(avg_monthly_hours)"
   ]
  },
  {
   "cell_type": "markdown",
   "metadata": {},
   "source": [
    "|<center>TASK 3</center>|\n",
    "| ---- |\n",
    "| What was the average number of monthly hours by those who left their job? |"
   ]
  },
  {
   "cell_type": "markdown",
   "metadata": {},
   "source": [
    "### Solution"
   ]
  },
  {
   "cell_type": "code",
   "execution_count": null,
   "metadata": {},
   "outputs": [],
   "source": [
    "avg_monthly_hours_left = HR_comma_sep[HR_comma_sep['left'] == 1]['average_montly_hours'].mean()\n",
    "print(avg_monthly_hours_left)"
   ]
  },
  {
   "cell_type": "markdown",
   "metadata": {},
   "source": [
    "## Bonus Mark\n",
    "Repeat the three tasks above in Python; you can use libraries like `pandas` or `numpy` if you wish.\n",
    "Tip: You may wish to copy this notebook and change the kernel to Python (Kernel > Change Kernel > Python) -- make sure you also change the filename to `Prac 4 (Part 1) - Aggregate Python.ipynb` for clarity. Completing and submitting these three tasks above successfully in Python will yield a bonus mark towards your final overall mark."
   ]
  }
 ],
 "metadata": {
  "hide_input": false,
  "kernelspec": {
   "display_name": "Python 3 (ipykernel)",
   "language": "python",
   "name": "python3"
  },
  "language_info": {
   "codemirror_mode": {
    "name": "ipython",
    "version": 3
   },
   "file_extension": ".py",
   "mimetype": "text/x-python",
   "name": "python",
   "nbconvert_exporter": "python",
   "pygments_lexer": "ipython3",
   "version": "3.11.2"
  }
 },
 "nbformat": 4,
 "nbformat_minor": 4
}
